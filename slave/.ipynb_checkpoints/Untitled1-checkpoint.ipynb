{
 "cells": [
  {
   "cell_type": "markdown",
   "metadata": {},
   "source": [
    "# task list"
   ]
  },
  {
   "cell_type": "markdown",
   "metadata": {},
   "source": [
    "## main task"
   ]
  },
  {
   "cell_type": "markdown",
   "metadata": {},
   "source": [
    "1. quantization 실험 (mobilenet V1, mobilenet V2, shufflenet)\n",
    "\n",
    "2. pruning -> quantization 실험\n",
    "\n",
    "3. log scale (power of 2) quantization 논문 정리\n",
    "\n",
    "4. [optional] 1의 갯수를 줄이는 방법으로 quantization하는 방법\n",
    "\n",
    "5. [optional] 프레임버퍼를 사용중인 프레임워크에 맞는 방법으로 압축하는 방법\n",
    "\n",
    "6. 현재 진행중인 quantization, pruning 및 gpu자원 관리를 모니터링 할 수 있는 방법\n"
   ]
  },
  {
   "cell_type": "markdown",
   "metadata": {},
   "source": [
    "## minor task"
   ]
  },
  {
   "cell_type": "markdown",
   "metadata": {},
   "source": [
    "1. 파키스탄 학생들 면접 자료 준비"
   ]
  }
 ],
 "metadata": {
  "kernelspec": {
   "display_name": "Python 3",
   "language": "python",
   "name": "python3"
  },
  "language_info": {
   "codemirror_mode": {
    "name": "ipython",
    "version": 3
   },
   "file_extension": ".py",
   "mimetype": "text/x-python",
   "name": "python",
   "nbconvert_exporter": "python",
   "pygments_lexer": "ipython3",
   "version": "3.6.7"
  }
 },
 "nbformat": 4,
 "nbformat_minor": 2
}
