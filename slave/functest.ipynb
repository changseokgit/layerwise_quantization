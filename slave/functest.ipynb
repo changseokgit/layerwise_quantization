{
 "cells": [
  {
   "cell_type": "code",
   "execution_count": 1,
   "metadata": {},
   "outputs": [],
   "source": [
    "import torch\n",
    "import torchvision\n",
    "import numpy as np\n",
    "import module\n",
    "import vgg"
   ]
  },
  {
   "cell_type": "code",
   "execution_count": 2,
   "metadata": {},
   "outputs": [],
   "source": [
    "# model = torchvision.models.vgg16(pretrained=True)\n",
    "model = vgg.vgg16(pretrained=True)\n",
    "model = torch.nn.DataParallel(model).cuda()"
   ]
  },
  {
   "cell_type": "code",
   "execution_count": 3,
   "metadata": {},
   "outputs": [],
   "source": [
    "quantization_weight = [None for i in range(16)]\n",
    "pruning_weight = [8 for i in range(16)]"
   ]
  },
  {
   "cell_type": "code",
   "execution_count": 8,
   "metadata": {},
   "outputs": [],
   "source": [
    "def weight_processing(model, quantization_factor, pruning_factor):\n",
    "    state_dict = model.state_dict()\n",
    "        \n",
    "    counter = 0\n",
    "    total = 0\n",
    "    sum = 0\n",
    "    for module_name, layer in model.named_modules():\n",
    "        if type(layer) == torch.nn.modules.conv.Conv2d \\\n",
    "        or type(layer) == torch.nn.modules.linear.Linear or type(layer) == torch.nn.modules.batchnorm.BatchNorm2d or type(layer) == module.QuantizeConv2d or type(layer) == module.QuantizeLinear: \n",
    "            for layer_name, parameter in layer.named_parameters():\n",
    "                if quantization_factor[counter] != None:\n",
    "                    state_dict[module_name + '.' + layer_name] = module.quantize(parameter, quantization_factor[counter])\n",
    "                if pruning_factor != None:\n",
    "                    state_dict[module_name + '.' + layer_name] = state_dict[module_name + '.' + layer_name] * module.pruning(parameter, pruning_factor[counter])\n",
    "                    sum += len(torch.nonzero(state_dict[module_name + '.' + layer_name]))\n",
    "                    total += len(state_dict[module_name + '.' + layer_name].view(-1))\n",
    "                    print('['+str(counter)+'] layer pruning rate : ' + str((1-(len(torch.nonzero(state_dict[module_name + '.' + layer_name])) / \n",
    "                                                                               len(state_dict[module_name + '.' + layer_name].view(-1))))*100))\n",
    "            counter += 1\n",
    "     \n",
    "    print('total layer pruning rate : ' + str((1-sum/total)*100))\n",
    "            \n",
    "    model.load_state_dict(state_dict)\n"
   ]
  },
  {
   "cell_type": "code",
   "execution_count": 9,
   "metadata": {},
   "outputs": [
    {
     "name": "stdout",
     "output_type": "stream",
     "text": [
      "[0] layer pruning rate : 1.5625\n",
      "[0] layer pruning rate : 0.0\n",
      "[1] layer pruning rate : 8.034939236111116\n",
      "[1] layer pruning rate : 1.5625\n",
      "[2] layer pruning rate : 8.245171440972221\n",
      "[2] layer pruning rate : 1.5625\n",
      "[3] layer pruning rate : 9.608968098958337\n",
      "[3] layer pruning rate : 2.34375\n",
      "[4] layer pruning rate : 11.346435546875\n",
      "[4] layer pruning rate : 3.125\n",
      "[5] layer pruning rate : 13.766140407986116\n",
      "[5] layer pruning rate : 3.515625\n",
      "[6] layer pruning rate : 13.465203179253471\n",
      "[6] layer pruning rate : 3.515625\n",
      "[7] layer pruning rate : 15.970272488064241\n",
      "[7] layer pruning rate : 5.078125\n",
      "[8] layer pruning rate : 19.915262858072914\n",
      "[8] layer pruning rate : 3.90625\n",
      "[9] layer pruning rate : 19.91098192003038\n",
      "[9] layer pruning rate : 4.4921875\n",
      "[10] layer pruning rate : 18.678453233506943\n",
      "[10] layer pruning rate : 2.734375\n",
      "[11] layer pruning rate : 18.590545654296875\n",
      "[11] layer pruning rate : 3.125\n",
      "[12] layer pruning rate : 20.757039388020836\n",
      "[12] layer pruning rate : 2.34375\n",
      "[13] layer pruning rate : 58.13986427929936\n",
      "[13] layer pruning rate : 15.6494140625\n",
      "[14] layer pruning rate : 30.86850643157959\n",
      "[14] layer pruning rate : 0.732421875\n",
      "[15] layer pruning rate : 16.612426757812504\n",
      "[15] layer pruning rate : 10.799999999999999\n",
      "total layer pruning rate : 49.37884847103097\n"
     ]
    }
   ],
   "source": [
    "# print(model.state_dict()['module.features.0.weight'][0])\n",
    "weight_processing(model, quantization_weight, pruning_weight)\n",
    "# print(model.state_dict()['module.features.0.weight'][0])"
   ]
  },
  {
   "cell_type": "code",
   "execution_count": 16,
   "metadata": {},
   "outputs": [
    {
     "data": {
      "text/plain": [
       "tensor([1, 2, 3, 4, 5])"
      ]
     },
     "execution_count": 16,
     "metadata": {},
     "output_type": "execute_result"
    }
   ],
   "source": [
    "torch.tensor([1,2,3,4,5])"
   ]
  },
  {
   "cell_type": "code",
   "execution_count": 30,
   "metadata": {},
   "outputs": [
    {
     "data": {
      "text/plain": [
       "27"
      ]
     },
     "execution_count": 30,
     "metadata": {},
     "output_type": "execute_result"
    }
   ],
   "source": [
    "len(temp.view(-1))"
   ]
  },
  {
   "cell_type": "code",
   "execution_count": null,
   "metadata": {},
   "outputs": [],
   "source": []
  }
 ],
 "metadata": {
  "kernelspec": {
   "display_name": "Python 3",
   "language": "python",
   "name": "python3"
  },
  "language_info": {
   "codemirror_mode": {
    "name": "ipython",
    "version": 3
   },
   "file_extension": ".py",
   "mimetype": "text/x-python",
   "name": "python",
   "nbconvert_exporter": "python",
   "pygments_lexer": "ipython3",
   "version": "3.6.7"
  }
 },
 "nbformat": 4,
 "nbformat_minor": 2
}
