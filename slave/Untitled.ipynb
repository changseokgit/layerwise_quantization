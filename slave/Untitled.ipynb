{
 "cells": [
  {
   "cell_type": "code",
   "execution_count": 9,
   "metadata": {},
   "outputs": [],
   "source": [
    "import torch\n",
    "import torchvision"
   ]
  },
  {
   "cell_type": "code",
   "execution_count": 10,
   "metadata": {},
   "outputs": [],
   "source": [
    "weight_length = [i for i in range(16)]"
   ]
  },
  {
   "cell_type": "code",
   "execution_count": 17,
   "metadata": {},
   "outputs": [],
   "source": [
    "model = torchvision.models.vgg16(pretrained=True)"
   ]
  },
  {
   "cell_type": "code",
   "execution_count": 18,
   "metadata": {},
   "outputs": [
    {
     "name": "stdout",
     "output_type": "stream",
     "text": [
      "<class 'torch.nn.parameter.Parameter'> 0\n",
      "<class 'torch.nn.parameter.Parameter'> 0\n",
      "<class 'torch.nn.parameter.Parameter'> 1\n",
      "<class 'torch.nn.parameter.Parameter'> 1\n",
      "<class 'torch.nn.parameter.Parameter'> 2\n",
      "<class 'torch.nn.parameter.Parameter'> 2\n",
      "<class 'torch.nn.parameter.Parameter'> 3\n",
      "<class 'torch.nn.parameter.Parameter'> 3\n",
      "<class 'torch.nn.parameter.Parameter'> 4\n",
      "<class 'torch.nn.parameter.Parameter'> 4\n",
      "<class 'torch.nn.parameter.Parameter'> 5\n",
      "<class 'torch.nn.parameter.Parameter'> 5\n",
      "<class 'torch.nn.parameter.Parameter'> 6\n",
      "<class 'torch.nn.parameter.Parameter'> 6\n",
      "<class 'torch.nn.parameter.Parameter'> 7\n",
      "<class 'torch.nn.parameter.Parameter'> 7\n",
      "<class 'torch.nn.parameter.Parameter'> 8\n",
      "<class 'torch.nn.parameter.Parameter'> 8\n",
      "<class 'torch.nn.parameter.Parameter'> 9\n",
      "<class 'torch.nn.parameter.Parameter'> 9\n",
      "<class 'torch.nn.parameter.Parameter'> 10\n",
      "<class 'torch.nn.parameter.Parameter'> 10\n",
      "<class 'torch.nn.parameter.Parameter'> 11\n",
      "<class 'torch.nn.parameter.Parameter'> 11\n",
      "<class 'torch.nn.parameter.Parameter'> 12\n",
      "<class 'torch.nn.parameter.Parameter'> 12\n",
      "<class 'torch.nn.parameter.Parameter'> 13\n",
      "<class 'torch.nn.parameter.Parameter'> 13\n",
      "<class 'torch.nn.parameter.Parameter'> 14\n",
      "<class 'torch.nn.parameter.Parameter'> 14\n",
      "<class 'torch.nn.parameter.Parameter'> 15\n",
      "<class 'torch.nn.parameter.Parameter'> 15\n"
     ]
    }
   ],
   "source": [
    "counter = 0\n",
    "for layer in model.modules():\n",
    "    if type(layer) == torch.nn.modules.conv.Conv2d or type(layer) == torch.nn.modules.linear.Linear or type(layer) == torch.nn.modules.batchnorm.BatchNorm2d:\n",
    "        for parameter in layer.parameters():\n",
    "            print(type(parameter), weight_length[counter])\n",
    "        counter += 1\n",
    "\n",
    "        \n",
    "        "
   ]
  },
  {
   "cell_type": "code",
   "execution_count": 19,
   "metadata": {},
   "outputs": [],
   "source": [
    "a = torch.nn.modules.conv.Conv2d(1, 2, 3)"
   ]
  },
  {
   "cell_type": "code",
   "execution_count": 36,
   "metadata": {},
   "outputs": [
    {
     "name": "stdout",
     "output_type": "stream",
     "text": [
      "Parameter containing:\n",
      "tensor([[[[ 1.3113e-01, -1.9034e-01,  3.3066e-01],\n",
      "          [-8.7461e-02, -6.0980e-02,  2.0293e-01],\n",
      "          [-2.5033e-01,  2.3458e-03, -2.1945e-01]]],\n",
      "\n",
      "\n",
      "        [[[-2.4638e-01,  6.0409e-05, -1.3641e-01],\n",
      "          [-9.0321e-02,  2.0075e-01,  2.3181e-01],\n",
      "          [-1.5758e-01,  8.4226e-02,  1.2662e-01]]]], requires_grad=True)\n",
      "Parameter containing:\n",
      "tensor([-0.2249, -0.2279], requires_grad=True)\n"
     ]
    }
   ],
   "source": [
    "for i, j in a.named_parameters():\n",
    "    print(j)"
   ]
  },
  {
   "cell_type": "code",
   "execution_count": null,
   "metadata": {},
   "outputs": [],
   "source": []
  }
 ],
 "metadata": {
  "kernelspec": {
   "display_name": "Python 3",
   "language": "python",
   "name": "python3"
  },
  "language_info": {
   "codemirror_mode": {
    "name": "ipython",
    "version": 3
   },
   "file_extension": ".py",
   "mimetype": "text/x-python",
   "name": "python",
   "nbconvert_exporter": "python",
   "pygments_lexer": "ipython3",
   "version": "3.6.7"
  }
 },
 "nbformat": 4,
 "nbformat_minor": 2
}
